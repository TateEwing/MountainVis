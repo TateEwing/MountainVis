{
 "cells": [
  {
   "cell_type": "code",
   "execution_count": 149,
   "metadata": {},
   "outputs": [],
   "source": [
    "import pandas as pd\n",
    "import datetime\n",
    "import os\n",
    "directory = 'data\\\\as_csv'"
   ]
  },
  {
   "cell_type": "code",
   "execution_count": 150,
   "metadata": {},
   "outputs": [],
   "source": [
    "# Create empty data frame to populate with activities\n",
    "df_activities_cloud = pd.DataFrame([], columns=['latitude','longitude','altitude', 'r', 'g', 'b'])\n",
    "\n",
    "#combine all activities into 1 dataset. Drop activities before July 2021--the month I moved to Seattle \n",
    "for filename in os.listdir(directory):\n",
    "    f = os.path.join(directory, filename)\n",
    "    df = pd.read_csv(f)\n",
    "    date_string = df['time'][0][:10]\n",
    "    date_list = date_string.split('-')\n",
    "    datetime_obj = datetime.datetime(int(date_list[0]),int(date_list[1]),int(date_list[2]))\n",
    "    if datetime_obj < datetime.datetime(2021,7,1):\n",
    "        continue\n",
    "        \n",
    "    # Drop time column, and every other row. Data points are dense enough to display adequately with half as many.\n",
    "    df = df.drop(['time'], axis=1)\n",
    "    df = df.iloc[::2]\n",
    "    \n",
    "    # increase scale of altitude to increase 3D appearance\n",
    "    df['altitude'] = df['altitude']*2.5\n",
    "    \n",
    "    # add rgb values based on normalized location data\n",
    "    df_normalized = (df-df.min())/(df.max()-df.min())\n",
    "    df.insert(3, 'r', (df_normalized['latitude']*255).astype(int))\n",
    "    df.insert(4, 'g', (df_normalized['longitude']*255).astype(int))\n",
    "    df.insert(5, 'b', (df_normalized['altitude']*255).astype(int))\n",
    "\n",
    "    # Add activity coordinates to the activity\n",
    "    df_activities_cloud = pd.concat([df_activities_cloud, df])    "
   ]
  },
  {
   "cell_type": "code",
   "execution_count": 151,
   "metadata": {},
   "outputs": [],
   "source": [
    "df_activities_cloud.to_csv('data/activities_cloud.csv', index=False)\n"
   ]
  },
  {
   "cell_type": "code",
   "execution_count": null,
   "metadata": {},
   "outputs": [],
   "source": []
  }
 ],
 "metadata": {
  "kernelspec": {
   "display_name": "Python 3",
   "language": "python",
   "name": "python3"
  },
  "language_info": {
   "codemirror_mode": {
    "name": "ipython",
    "version": 3
   },
   "file_extension": ".py",
   "mimetype": "text/x-python",
   "name": "python",
   "nbconvert_exporter": "python",
   "pygments_lexer": "ipython3",
   "version": "3.8.2"
  }
 },
 "nbformat": 4,
 "nbformat_minor": 4
}
