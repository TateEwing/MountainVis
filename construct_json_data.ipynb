{
 "cells": [
  {
   "cell_type": "code",
   "execution_count": 36,
   "metadata": {},
   "outputs": [],
   "source": [
    "import pandas as pd\n",
    "import datetime\n",
    "import os\n",
    "directory = 'data/as_csv'"
   ]
  },
  {
   "cell_type": "code",
   "execution_count": 56,
   "metadata": {},
   "outputs": [],
   "source": [
    "# Create empty data frame to populate with activities\n",
    "df_activities_cloud = pd.DataFrame([], columns=['position', 'color'])\n",
    "\n",
    "#combine all activities into 1 dataset. Drop activities before July 2021--the month I moved to Seattle \n",
    "for filename in os.listdir(directory):\n",
    "    f = os.path.join(directory, filename)\n",
    "    df = pd.read_csv(f)\n",
    "    date_string = df['time'][0][:10]\n",
    "    date_list = date_string.split('-')\n",
    "    datetime_obj = datetime.datetime(int(date_list[0]),int(date_list[1]),int(date_list[2]))\n",
    "    if datetime_obj < datetime.datetime(2021,7,1):\n",
    "        continue\n",
    "        \n",
    "    # Drop time column, and Only keep every 4th row. Data points are dense enough to display adequately with many fewer points.\n",
    "    df = df.drop(['time'], axis=1)\n",
    "    df = df.iloc[::2]\n",
    "    df = df.iloc[::2]\n",
    "    \n",
    "    # Set altitude scale to 1.5 to match my custom Mapbox style.\n",
    "    df['altitude'] = df['altitude']*1.5\n",
    "    \n",
    "    df_normalized = (df-df.min())/(df.max()-df.min())\n",
    "    # convert position to tuples and drop former columns\n",
    "    df['position'] = df[['latitude', 'longitude', 'altitude']].apply(tuple, axis=1)\n",
    "    df = df.drop(['latitude', 'longitude', 'altitude'], axis=1)\n",
    "    \n",
    "    # add rgb values based on normalized location data\n",
    "    # df.insert(3, 'r', (df_normalized['latitude']*255).astype(int))\n",
    "    # df.insert(4, 'g', (df_normalized['longitude']*255).astype(int))\n",
    "    # df.insert(5, 'b', (df_normalized['altitude']*255).astype(int))\n",
    "\n",
    "    r = (df_normalized['latitude']*255).astype(int)\n",
    "    g = (df_normalized['longitude']*255).astype(int)\n",
    "    b = (df_normalized['altitude']*255).astype(int)\n",
    "\n",
    "    df.insert(1, 'color', list(zip(r,g,b)))\n",
    "    \n",
    "\n",
    "    # Add activity coordinates to the activity\n",
    "    df_activities_cloud = pd.concat([df_activities_cloud, df])    "
   ]
  },
  {
   "cell_type": "code",
   "execution_count": 57,
   "metadata": {},
   "outputs": [],
   "source": [
    "df_activities_cloud.to_json('data/as_json/activites_cloud.json', orient='records', lines=True)"
   ]
  },
  {
   "cell_type": "code",
   "execution_count": null,
   "metadata": {},
   "outputs": [],
   "source": []
  }
 ],
 "metadata": {
  "kernelspec": {
   "display_name": ".venv",
   "language": "python",
   "name": "python3"
  },
  "language_info": {
   "codemirror_mode": {
    "name": "ipython",
    "version": 3
   },
   "file_extension": ".py",
   "mimetype": "text/x-python",
   "name": "python",
   "nbconvert_exporter": "python",
   "pygments_lexer": "ipython3",
   "version": "3.12.4"
  }
 },
 "nbformat": 4,
 "nbformat_minor": 2
}
